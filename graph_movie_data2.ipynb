{
 "cells": [
  {
   "cell_type": "code",
   "execution_count": 5,
   "metadata": {},
   "outputs": [],
   "source": [
    "import matplotlib.pyplot as plt\n",
    "import pandas as pd\n",
    "import csv"
   ]
  },
  {
   "cell_type": "code",
   "execution_count": 6,
   "metadata": {},
   "outputs": [],
   "source": [
    "df = pd.read_csv(\"tmdb-movies.csv\")\n",
    "#df = df1.head(10) #data set is very large and can be difficult to render, so the first ten titles were stored in the variable 'df'"
   ]
  },
  {
   "cell_type": "code",
   "execution_count": 7,
   "metadata": {},
   "outputs": [
    {
     "ename": "NameError",
     "evalue": "name 'df' is not defined",
     "output_type": "error",
     "traceback": [
      "\u001b[0;31m---------------------------------------------------------------------------\u001b[0m",
      "\u001b[0;31mNameError\u001b[0m                                 Traceback (most recent call last)",
      "\u001b[0;32m<ipython-input-7-c4ae43dff829>\u001b[0m in \u001b[0;36m<module>\u001b[0;34m()\u001b[0m\n\u001b[0;32m----> 1\u001b[0;31m \u001b[0mdf\u001b[0m\u001b[0;34m.\u001b[0m\u001b[0mloc\u001b[0m\u001b[0;34m[\u001b[0m\u001b[0mdf\u001b[0m\u001b[0;34m[\u001b[0m\u001b[0;34m\"popularity\"\u001b[0m\u001b[0;34m]\u001b[0m\u001b[0;34m.\u001b[0m\u001b[0midxmax\u001b[0m\u001b[0;34m(\u001b[0m\u001b[0;34m)\u001b[0m\u001b[0;34m]\u001b[0m \u001b[0;31m#most popular movie with all columns returned\u001b[0m\u001b[0;34m\u001b[0m\u001b[0m\n\u001b[0m",
      "\u001b[0;31mNameError\u001b[0m: name 'df' is not defined"
     ]
    }
   ],
   "source": [
    "df.loc[df[\"popularity\"].idxmax()] #most popular movie with all columns returned"
   ]
  },
  {
   "cell_type": "code",
   "execution_count": 60,
   "metadata": {},
   "outputs": [],
   "source": [
    "#Filter out 0s in both columns and store in new dataframe (can always rewrite your first dataframe)\n",
    "df2 = df1[df1[\"revenue\"] > 0]\n",
    "df2 = df2[df2[\"budget\"] > 0]"
   ]
  },
  {
   "cell_type": "code",
   "execution_count": 1,
   "metadata": {},
   "outputs": [
    {
     "ename": "NameError",
     "evalue": "name 'df1' is not defined",
     "output_type": "error",
     "traceback": [
      "\u001b[0;31m---------------------------------------------------------------------------\u001b[0m",
      "\u001b[0;31mNameError\u001b[0m                                 Traceback (most recent call last)",
      "\u001b[0;32m<ipython-input-1-6aef8254c1e8>\u001b[0m in \u001b[0;36m<module>\u001b[0;34m()\u001b[0m\n\u001b[1;32m      1\u001b[0m \u001b[0;31m#Better way to write\u001b[0m\u001b[0;34m\u001b[0m\u001b[0;34m\u001b[0m\u001b[0m\n\u001b[0;32m----> 2\u001b[0;31m \u001b[0mdf3\u001b[0m \u001b[0;34m=\u001b[0m \u001b[0mdf1\u001b[0m\u001b[0;34m[\u001b[0m\u001b[0;34m(\u001b[0m\u001b[0mdf1\u001b[0m\u001b[0;34m[\u001b[0m\u001b[0;34m\"budget\"\u001b[0m\u001b[0;34m]\u001b[0m \u001b[0;34m>\u001b[0m \u001b[0;36m0\u001b[0m \u001b[0;34m)\u001b[0m \u001b[0;34m|\u001b[0m \u001b[0;34m(\u001b[0m\u001b[0mdf\u001b[0m\u001b[0;34m[\u001b[0m\u001b[0;34m\"revenue\"\u001b[0m\u001b[0;34m]\u001b[0m \u001b[0;34m>\u001b[0m \u001b[0;36m0\u001b[0m\u001b[0;34m)\u001b[0m\u001b[0;34m]\u001b[0m\u001b[0;34m\u001b[0m\u001b[0m\n\u001b[0m",
      "\u001b[0;31mNameError\u001b[0m: name 'df1' is not defined"
     ]
    }
   ],
   "source": [
    "#Better way to write\n",
    "df3 = df1[(df1[\"budget\"] > 0 ) | (df[\"revenue\"] > 0)]"
   ]
  },
  {
   "cell_type": "markdown",
   "metadata": {},
   "source": [
    "# Bar Graph"
   ]
  },
  {
   "cell_type": "code",
   "execution_count": null,
   "metadata": {},
   "outputs": [],
   "source": [
    "plt.bar(df[\"original_title\"], df[\"popularity\"], color=\"blue\", label=\"Bar graph\")\n",
    "plt.scatter(df[\"original_title\"], df[\"popularity\"], color=\"orange\", label=\"Scatter\")\n",
    "plt.legend()\n",
    "plt.xlabel(\"Movie Title\", color=\"blue\")\n",
    "plt.ylabel(\"Popularity\", color=\"blue\")\n",
    "plt.title(\"Movie Popularity\", color=\"blue\")\n",
    "plt.xlim(-1,len(df)) #x plane adjusts to the length of the list\n",
    "plt.ylim(0,35)\n",
    "plt.show()"
   ]
  },
  {
   "cell_type": "markdown",
   "metadata": {},
   "source": [
    "# Scatter Plot"
   ]
  },
  {
   "cell_type": "code",
   "execution_count": null,
   "metadata": {},
   "outputs": [],
   "source": [
    "plt.plot(df[\"original_title\"], df[\"popularity\"], color=\"orange\", label=\"Line Graph\")\n",
    "plt.scatter(df[\"original_title\"], df[\"popularity\"], color=\"red\", label = \"Scatter Plot\")\n",
    "plt.legend()\n",
    "plt.xlabel(\"Movie Title\", color=\"red\")\n",
    "plt.ylabel(\"Popularity\", color=\"red\")\n",
    "plt.title(\"Movie Popularity\", color=\"red\")\n",
    "plt.xlim(-1,len(df))\n",
    "plt.ylim(0,35)\n",
    "plt.show()"
   ]
  },
  {
   "cell_type": "markdown",
   "metadata": {},
   "source": [
    "# Horizontal Bar Graph"
   ]
  },
  {
   "cell_type": "code",
   "execution_count": null,
   "metadata": {},
   "outputs": [],
   "source": [
    "plt.barh(df[\"original_title\"], df[\"popularity\"], color=[\"red\", \"green\", \"blue\"], alpha= .5)\n",
    "plt.ylabel(\"Movie Title\", color=\"blue\")\n",
    "plt.xlabel(\"Popularity\", color=\"blue\")\n",
    "plt.title(\"Movie Popularity\", color=\"blue\")\n",
    "plt.show()"
   ]
  },
  {
   "cell_type": "markdown",
   "metadata": {},
   "source": [
    "## Popularity by Director"
   ]
  },
  {
   "cell_type": "code",
   "execution_count": null,
   "metadata": {},
   "outputs": [],
   "source": [
    "plt.barh(df[\"director\"], df[\"popularity\"], color=[\"green\"], alpha= .5, label=\"Popularity\")\n",
    "plt.legend() #added legend to represent \"Popularity\"\n",
    "plt.ylabel(\"Director\", color=\"blue\")\n",
    "plt.xlabel(\"Popularity\", color=\"blue\")\n",
    "plt.title(\"Director Popularity\", color=\"blue\")\n",
    "plt.show()"
   ]
  },
  {
   "cell_type": "markdown",
   "metadata": {},
   "source": [
    "## Movie Revenue"
   ]
  },
  {
   "cell_type": "code",
   "execution_count": null,
   "metadata": {},
   "outputs": [],
   "source": [
    "plt.barh(df[\"original_title\"], df[\"revenue\"], color=[\"orange\"], alpha= .5, label=\"Popularity\")\n",
    "plt.legend()\n",
    "plt.xlabel(\"Revenue\", color=\"blue\")\n",
    "plt.ylabel(\"Movie Title\", color=\"blue\")\n",
    "plt.title(\"Movie Revenue\", color=\"blue\")\n",
    "plt.show()"
   ]
  },
  {
   "cell_type": "markdown",
   "metadata": {},
   "source": [
    "## Budgets by Movie Title"
   ]
  },
  {
   "cell_type": "code",
   "execution_count": null,
   "metadata": {},
   "outputs": [],
   "source": [
    "plt.barh(df[\"original_title\"], df[\"budget\"], color=[\"lightblue\"], alpha= .5, label=\"Budget\")\n",
    "plt.legend()\n",
    "plt.xlabel(\"Budget\", color=\"blue\")\n",
    "plt.ylabel(\"Movie Title\", color=\"blue\")\n",
    "plt.title(\"Movie Budgets\", color=\"blue\")\n",
    "plt.show()"
   ]
  },
  {
   "cell_type": "markdown",
   "metadata": {},
   "source": [
    "## Popularity by Genre"
   ]
  },
  {
   "cell_type": "code",
   "execution_count": null,
   "metadata": {},
   "outputs": [],
   "source": [
    "plt.barh(df[\"genres\"], df[\"popularity\"], color=[\"red\"], alpha= 1, label=\"Popularity\")\n",
    "plt.legend()\n",
    "plt.ylabel(\"Genre\", color=\"blue\")\n",
    "plt.xlabel(\"Popularity\", color=\"blue\")\n",
    "plt.title(\"Genre Popularity\", color=\"blue\")\n",
    "plt.show()"
   ]
  },
  {
   "cell_type": "markdown",
   "metadata": {},
   "source": [
    "# Figure"
   ]
  },
  {
   "cell_type": "code",
   "execution_count": null,
   "metadata": {},
   "outputs": [],
   "source": [
    "fig=plt.figure()\n",
    "fig.patch.set_facecolor(\"lightgrey\")\n",
    "graph1 = fig.add_subplot(2,2,1, facecolor='lightyellow')\n",
    "graph1.plot(df[\"popularity\"], df[\"budget\"])\n",
    "graph1.set_title(\"Budget vs Popularity\")\n",
    "\n",
    "graph2 = fig.add_subplot(2,2,2, facecolor='lightblue')\n",
    "graph2.plot(df[\"popularity\"], df[\"revenue\"])\n",
    "graph2.set_title(\"Revenue vs Popularity\")\n",
    "\n",
    "graph3 = fig.add_subplot(2,1,2, facecolor='lightgreen')\n",
    "graph3.plot(df[\"popularity\"], df[\"runtime\"])\n",
    "graph3.set_title(\"Runtime vs Popularity\")\n",
    "\n",
    "plt.show()"
   ]
  },
  {
   "cell_type": "markdown",
   "metadata": {},
   "source": [
    "# Pie Chart"
   ]
  },
  {
   "cell_type": "code",
   "execution_count": null,
   "metadata": {},
   "outputs": [],
   "source": [
    "fig=plt.figure()\n",
    "fig.patch.set_facecolor(\"lightgrey\")\n",
    "graph1 = fig.add_subplot(2,2,1, facecolor='lightyellow')\n",
    "graph1.plot(df[\"popularity\"], df[\"budget\"])\n",
    "graph1.set_title(\"Budget vs Popularity\")\n",
    "\n",
    "graph2 = fig.add_subplot(2,2,2, facecolor='lightblue')\n",
    "graph2.plot(df[\"popularity\"], df[\"revenue\"])\n",
    "graph2.set_title(\"Revenue vs Popularity\")\n",
    "\n",
    "graph3 = fig.add_subplot(2,1,2, facecolor='lightgreen')\n",
    "\n",
    "x = len(df[df.popularity>=25])\n",
    "x1 = len( df[ (df.popularity>=10) & (df.popularity<=25)])\n",
    "x3 = len(df[df.popularity<10])\n",
    "graph3.axis('equal')\n",
    "graph3.pie([x,x1,x3],colors=['yellow','blue','green'], labels=['>=25','<=25 & >=10','<=10'])\n",
    "graph3.legend(title=\"Popularity\")\n",
    "plt.show()"
   ]
  }
 ],
 "metadata": {
  "kernelspec": {
   "display_name": "Python 3",
   "language": "python",
   "name": "python3"
  },
  "language_info": {
   "codemirror_mode": {
    "name": "ipython",
    "version": 3
   },
   "file_extension": ".py",
   "mimetype": "text/x-python",
   "name": "python",
   "nbconvert_exporter": "python",
   "pygments_lexer": "ipython3",
   "version": "3.6.5"
  }
 },
 "nbformat": 4,
 "nbformat_minor": 2
}
