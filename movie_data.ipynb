{
 "cells": [
  {
   "cell_type": "markdown",
   "metadata": {},
   "source": [
    "# Introduction:\n",
    "The movie data base (TMDb) contains information on over 10,000 movies with numerical data regarding popularity, budget, and revenue. As well as data such as director, cast, and genres.\n",
    "\n",
    "Some questions along with their respective answers can be found in the analysis below:\n",
    "\n",
    "<br>Q1: Which movie is the most popular?\n",
    "<br><b>A1: Jurassic World.</b></br>\n",
    "\n",
    "<br>Q2: Which movie earned the highest revenue and what was that revenue?\n",
    "<br><b>A2: Avatar. 2781505847.</b></br>\n",
    "\n",
    "<br>Q3: Which movie had the lowest revenue?\n",
    "<br><b>A3: Shattered Glass.</b></br>\n",
    "\n",
    "<br>Q4: Which director had the lowest budget?\n",
    "<br><b>A4: Dylan Avery.</b></br>\n",
    "\n",
    "<br>Q5: What is the average runtime?\n",
    "<br><b>A5: 109.21582360570687.</b></br>"
   ]
  },
  {
   "cell_type": "markdown",
   "metadata": {},
   "source": [
    "# Step 1: Acquired data set from IMDB and imported CSV values."
   ]
  },
  {
   "cell_type": "code",
   "execution_count": 223,
   "metadata": {},
   "outputs": [],
   "source": [
    "import matplotlib.pyplot as plt\n",
    "import pandas as pd\n",
    "import csv\n",
    "\n",
    "df = pd.read_csv(\"tmdb-movies.csv\")"
   ]
  },
  {
   "cell_type": "markdown",
   "metadata": {},
   "source": [
    "# Step 2: Data Cleaning"
   ]
  },
  {
   "cell_type": "markdown",
   "metadata": {},
   "source": [
    "In the code below I wanted to return 'revenue' and 'budget' data with values greater than zero."
   ]
  },
  {
   "cell_type": "code",
   "execution_count": 224,
   "metadata": {},
   "outputs": [
    {
     "name": "stdout",
     "output_type": "stream",
     "text": [
      "10866\n",
      "3855\n"
     ]
    }
   ],
   "source": [
    "print(len(df))  #returns number of elements in uncleaned/raw data frame\n",
    "\n",
    "df1 = df[df[\"revenue\"] > 0]\n",
    "df2 = df1[df1[\"budget\"] > 0]\n",
    "\n",
    "print(len(df2)) #returns number of elements in data frame with values over zero in 'budget' & 'revenue' columns"
   ]
  },
  {
   "cell_type": "markdown",
   "metadata": {},
   "source": [
    "In the code's output above, we can see the attempt at data cleaning was effective because the new number (3855) of elements returned is less than the original number (10866) of elements returned, implying our code was successful at excluding values less than or equal to zero."
   ]
  },
  {
   "cell_type": "markdown",
   "metadata": {},
   "source": [
    "## Function 1\n",
    "\n",
    "Sorts data by 'popularity' with respect to 'original_title'\n",
    "\n",
    "With this function we are able to sort data according to popularity."
   ]
  },
  {
   "cell_type": "code",
   "execution_count": 205,
   "metadata": {},
   "outputs": [
    {
     "data": {
      "text/plain": [
       "0                                           Jurassic World\n",
       "1                                       Mad Max: Fury Road\n",
       "629                                           Interstellar\n",
       "630                                Guardians of the Galaxy\n",
       "2                                                Insurgent\n",
       "631                    Captain America: The Winter Soldier\n",
       "1329                                             Star Wars\n",
       "632                                              John Wick\n",
       "3                             Star Wars: The Force Awakens\n",
       "633                  The Hunger Games: Mockingjay - Part 1\n",
       "634              The Hobbit: The Battle of the Five Armies\n",
       "1386                                                Avatar\n",
       "1919                                             Inception\n",
       "4                                                Furious 7\n",
       "5                                             The Revenant\n",
       "2409                                            Fight Club\n",
       "635                                             Big Hero 6\n",
       "6                                       Terminator Genisys\n",
       "2633     The Lord of the Rings: The Fellowship of the Ring\n",
       "2875                                       The Dark Knight\n",
       "636                                     The Imitation Game\n",
       "3911                 The Lord of the Rings: The Two Towers\n",
       "4177                                          Pulp Fiction\n",
       "2634              Harry Potter and the Philosopher's Stone\n",
       "3372                    Captain America: The First Avenger\n",
       "2410                                            The Matrix\n",
       "7                                              The Martian\n",
       "4361                                          The Avengers\n",
       "8                                                  Minions\n",
       "4178                              The Shawshank Redemption\n",
       "                               ...                        \n",
       "7367                               Battle Beyond the Stars\n",
       "4790                                      English Vinglish\n",
       "10589                                            Manhunter\n",
       "10647                                            Dillinger\n",
       "2553                                          The Best Man\n",
       "5415                                            The Castle\n",
       "7813                               Loose Change: Final Cut\n",
       "8367                                     Strictly Ballroom\n",
       "2387                                           Secretariat\n",
       "7808                                               Partner\n",
       "9590              The New Adventures of Pippi Longstocking\n",
       "5362                                           Playing God\n",
       "10170                                          Cinderfella\n",
       "4903                                Katy Perry: Part of Me\n",
       "8444                                             Neighbors\n",
       "9756                                                Charly\n",
       "6948                                               Special\n",
       "6041                                        The Internship\n",
       "8881                                            Hanging Up\n",
       "2398                                                   Boy\n",
       "2378                                        Action Replayy\n",
       "3340                     Expelled: No Intelligence Allowed\n",
       "7819                                       No End in Sight\n",
       "8241                                               Top Dog\n",
       "4176                          The Kid Stays in the Picture\n",
       "10218                                   The Bad News Bears\n",
       "8883                                          The In Crowd\n",
       "8066         Spacehunter: Adventures in the Forbidden Zone\n",
       "6065                                  Ð¡Ñ‚Ð°Ð»Ð¸Ð½Ð³Ñ€Ð°Ð´\n",
       "7268                                    Born into Brothels\n",
       "Name: original_title, Length: 3855, dtype: object"
      ]
     },
     "execution_count": 205,
     "metadata": {},
     "output_type": "execute_result"
    }
   ],
   "source": [
    "def sort_by_gross_profit(df2):\n",
    "    return df2.sort_values(by = 'popularity',ascending = False)['original_title']\n",
    "sort_by_gross_profit(df2)"
   ]
  },
  {
   "cell_type": "markdown",
   "metadata": {},
   "source": [
    "# Step 3: Asking Questions."
   ]
  },
  {
   "cell_type": "markdown",
   "metadata": {},
   "source": [
    "## Question 1: Which movie is the most popular?"
   ]
  },
  {
   "cell_type": "code",
   "execution_count": 126,
   "metadata": {},
   "outputs": [
    {
     "name": "stdout",
     "output_type": "stream",
     "text": [
      "32.985763\n",
      "0\n"
     ]
    }
   ],
   "source": [
    "print(df[\"popularity\"].max())    #returns the value of the most popular movie\n",
    "print(df[\"popularity\"].idxmax()) #returns the location of the most popular movie"
   ]
  },
  {
   "cell_type": "markdown",
   "metadata": {},
   "source": [
    "Below is the data associated with the most popular movie- Jurassic World. By excluding an upper bound in the code below it is possible to return all the column information. \n",
    "\n",
    "(In the following examples we will include an upper bound to return a more precise result.)"
   ]
  },
  {
   "cell_type": "code",
   "execution_count": 217,
   "metadata": {},
   "outputs": [
    {
     "name": "stdout",
     "output_type": "stream",
     "text": [
      "id                                                                 135397\n",
      "imdb_id                                                         tt0369610\n",
      "popularity                                                        32.9858\n",
      "budget                                                          150000000\n",
      "revenue                                                        1513528810\n",
      "original_title                                             Jurassic World\n",
      "cast                    Chris Pratt|Bryce Dallas Howard|Irrfan Khan|Vi...\n",
      "homepage                                    http://www.jurassicworld.com/\n",
      "director                                                  Colin Trevorrow\n",
      "tagline                                                 The park is open.\n",
      "keywords                monster|dna|tyrannosaurus rex|velociraptor|island\n",
      "overview                Twenty-two years after the events of Jurassic ...\n",
      "runtime                                                               124\n",
      "genres                          Action|Adventure|Science Fiction|Thriller\n",
      "production_companies    Universal Studios|Amblin Entertainment|Legenda...\n",
      "release_date                                                       6/9/15\n",
      "vote_count                                                           5562\n",
      "vote_average                                                          6.5\n",
      "release_year                                                         2015\n",
      "budget_adj                                                       1.38e+08\n",
      "revenue_adj                                                   1.39245e+09\n",
      "Name: 0, dtype: object\n"
     ]
    }
   ],
   "source": [
    "print(df.loc[df[\"popularity\"].idxmax()]) #most popular"
   ]
  },
  {
   "cell_type": "markdown",
   "metadata": {},
   "source": [
    "### Graph 1\n",
    "The bar graph below represents 'popularity' as a function of 'original_title' and shows us which movie is the most popular. More graphs can be found in the attachtment labeled 'graph_movie_data'"
   ]
  },
  {
   "cell_type": "code",
   "execution_count": 236,
   "metadata": {},
   "outputs": [],
   "source": [
    "df3 = df2.head(20) #stores the first ten values of df2 for easy graphing."
   ]
  },
  {
   "cell_type": "code",
   "execution_count": 237,
   "metadata": {},
   "outputs": [
    {
     "data": {
      "image/png": "[encoded data removed]",
      "text/plain": [
       "<Figure size 432x288 with 1 Axes>"
      ]
     },
     "metadata": {},
     "output_type": "display_data"
    }
   ],
   "source": [
    "plt.bar(df3[\"original_title\"], df3[\"popularity\"], color=\"blue\", label=\"Bar graph\")\n",
    "plt.scatter(df3[\"original_title\"], df3[\"popularity\"], color=\"orange\", label=\"Scatter\")\n",
    "plt.legend()\n",
    "plt.xlabel(\"Movie Title\", color=\"blue\")\n",
    "plt.xticks(rotation=90)\n",
    "plt.ylabel(\"Popularity\", color=\"blue\")\n",
    "plt.title(\"Movie Popularity\", color=\"blue\")\n",
    "plt.xlim(-1,len(df3)) #x plane adjusts to the length of the list\n",
    "plt.ylim(0,35)\n",
    "plt.show()"
   ]
  },
  {
   "cell_type": "markdown",
   "metadata": {},
   "source": [
    "## Question 2: Which movie earned the highest revenue and what was that revenue?"
   ]
  },
  {
   "cell_type": "code",
   "execution_count": 118,
   "metadata": {},
   "outputs": [
    {
     "name": "stdout",
     "output_type": "stream",
     "text": [
      "2781505847\n",
      "1386\n"
     ]
    }
   ],
   "source": [
    "print(df2[\"revenue\"].max())    #returns the maximun value for revenue\n",
    "print(df2[\"revenue\"].idxmax()) #returns the location of maximum revenue value"
   ]
  },
  {
   "cell_type": "code",
   "execution_count": 206,
   "metadata": {},
   "outputs": [
    {
     "name": "stdout",
     "output_type": "stream",
     "text": [
      "Avatar\n"
     ]
    }
   ],
   "source": [
    "print(df2.loc[df2[\"revenue\"].idxmax(), 'original_title']) #returns all column information associated with the value at highest revenue"
   ]
  },
  {
   "cell_type": "markdown",
   "metadata": {},
   "source": [
    "## Question 3: Which movie had the lowest revenue?"
   ]
  },
  {
   "cell_type": "code",
   "execution_count": 120,
   "metadata": {},
   "outputs": [
    {
     "name": "stdout",
     "output_type": "stream",
     "text": [
      "1938\n",
      "4668\n"
     ]
    }
   ],
   "source": [
    "print(df2[\"revenue\"].min())    #returns value of minumum revenue\n",
    "print(df2[\"revenue\"].idxmin()) #returns location of minimum revenue"
   ]
  },
  {
   "cell_type": "code",
   "execution_count": 198,
   "metadata": {},
   "outputs": [
    {
     "name": "stdout",
     "output_type": "stream",
     "text": [
      "Shattered Glass\n"
     ]
    }
   ],
   "source": [
    "print(df2.loc[df2[\"revenue\"].idxmin(), \"original_title\"]) #movie with lowest revenue"
   ]
  },
  {
   "cell_type": "markdown",
   "metadata": {},
   "source": [
    "## Question 4: Which director had the lowest budget?"
   ]
  },
  {
   "cell_type": "code",
   "execution_count": 124,
   "metadata": {},
   "outputs": [
    {
     "name": "stdout",
     "output_type": "stream",
     "text": [
      "6000\n",
      "7813\n"
     ]
    }
   ],
   "source": [
    "print(df2[\"budget\"].min()) #here df2 is used to exlude zero values from 'budget' column\n",
    "print(df2[\"budget\"].idxmin())"
   ]
  },
  {
   "cell_type": "code",
   "execution_count": 125,
   "metadata": {},
   "outputs": [
    {
     "name": "stdout",
     "output_type": "stream",
     "text": [
      "Dylan Avery\n"
     ]
    }
   ],
   "source": [
    "print(df2.loc[df2[\"budget\"].idxmin(), \"director\"]) #lowest budget"
   ]
  },
  {
   "cell_type": "markdown",
   "metadata": {},
   "source": [
    "## Question 5: What is the average runtime?"
   ]
  },
  {
   "cell_type": "code",
   "execution_count": 204,
   "metadata": {},
   "outputs": [
    {
     "data": {
      "text/plain": [
       "109.21582360570687"
      ]
     },
     "execution_count": 204,
     "metadata": {},
     "output_type": "execute_result"
    }
   ],
   "source": [
    "df2.runtime.mean()"
   ]
  },
  {
   "cell_type": "markdown",
   "metadata": {},
   "source": [
    "# Conclusion\n",
    "<br>According to the data:\n",
    "\n",
    "<br><b>1: Jurassic World is the most popular movie.</b></br>\n",
    "\n",
    "<br><b>2: Avatar earned the highest grossing revenue, totaling 2781505847.</b></br>\n",
    "\n",
    "<br><b>3: Shattered Glass grossed the least revenue.</b></br>\n",
    "\n",
    "<br><b>4: Dylan Avery had the lowest budget.</b></br>\n",
    "\n",
    "<br><b>5: The average runtime of a movie in TMDb is 109.21582360570687.</b></br>"
   ]
  },
  {
   "cell_type": "markdown",
   "metadata": {},
   "source": [
    "# Limitations\n",
    "The data included zero values for many items in revenue and budget columns which were removed before analysis. Because of this some of the information may not be entirely accurate."
   ]
  },
  {
   "cell_type": "code",
   "execution_count": null,
   "metadata": {},
   "outputs": [],
   "source": []
  }
 ],
 "metadata": {
  "kernelspec": {
   "display_name": "Python 3",
   "language": "python",
   "name": "python3"
  },
  "language_info": {
   "codemirror_mode": {
    "name": "ipython",
    "version": 3
   },
   "file_extension": ".py",
   "mimetype": "text/x-python",
   "name": "python",
   "nbconvert_exporter": "python",
   "pygments_lexer": "ipython3",
   "version": "3.6.5"
  }
 },
 "nbformat": 4,
 "nbformat_minor": 2
}
